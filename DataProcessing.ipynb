{
 "cells": [
  {
   "cell_type": "code",
   "execution_count": 71,
   "id": "ae19ad6d",
   "metadata": {},
   "outputs": [
    {
     "name": "stdout",
     "output_type": "stream",
     "text": [
      "Requirement already satisfied: pmdarima in c:\\users\\kiran\\appdata\\local\\packages\\pythonsoftwarefoundation.python.3.11_qbz5n2kfra8p0\\localcache\\local-packages\\python311\\site-packages (2.0.4)Note: you may need to restart the kernel to use updated packages.\n",
      "Requirement already satisfied: joblib>=0.11 in c:\\users\\kiran\\appdata\\local\\packages\\pythonsoftwarefoundation.python.3.11_qbz5n2kfra8p0\\localcache\\local-packages\\python311\\site-packages (from pmdarima) (1.3.2)\n",
      "Requirement already satisfied: Cython!=0.29.18,!=0.29.31,>=0.29 in c:\\users\\kiran\\appdata\\local\\packages\\pythonsoftwarefoundation.python.3.11_qbz5n2kfra8p0\\localcache\\local-packages\\python311\\site-packages (from pmdarima) (3.0.10)\n",
      "Requirement already satisfied: numpy>=1.21.2 in c:\\users\\kiran\\appdata\\local\\packages\\pythonsoftwarefoundation.python.3.11_qbz5n2kfra8p0\\localcache\\local-packages\\python311\\site-packages (from pmdarima) (1.24.4)\n",
      "Requirement already satisfied: pandas>=0.19 in c:\\users\\kiran\\appdata\\local\\packages\\pythonsoftwarefoundation.python.3.11_qbz5n2kfra8p0\\localcache\\local-packages\\python311\\site-packages (from pmdarima) (1.5.3)\n",
      "Requirement already satisfied: scikit-learn>=0.22 in c:\\users\\kiran\\appdata\\local\\packages\\pythonsoftwarefoundation.python.3.11_qbz5n2kfra8p0\\localcache\\local-packages\\python311\\site-packages (from pmdarima) (1.3.1)\n",
      "Requirement already satisfied: scipy>=1.3.2 in c:\\users\\kiran\\appdata\\local\\packages\\pythonsoftwarefoundation.python.3.11_qbz5n2kfra8p0\\localcache\\local-packages\\python311\\site-packages (from pmdarima) (1.11.3)\n",
      "Requirement already satisfied: statsmodels>=0.13.2 in c:\\users\\kiran\\appdata\\local\\packages\\pythonsoftwarefoundation.python.3.11_qbz5n2kfra8p0\\localcache\\local-packages\\python311\\site-packages (from pmdarima) (0.14.2)\n",
      "Requirement already satisfied: urllib3 in c:\\users\\kiran\\appdata\\local\\packages\\pythonsoftwarefoundation.python.3.11_qbz5n2kfra8p0\\localcache\\local-packages\\python311\\site-packages (from pmdarima) (1.26.15)\n",
      "Requirement already satisfied: setuptools!=50.0.0,>=38.6.0 in c:\\program files\\windowsapps\\pythonsoftwarefoundation.python.3.11_3.11.2544.0_x64__qbz5n2kfra8p0\\lib\\site-packages (from pmdarima) (65.5.0)\n",
      "Requirement already satisfied: packaging>=17.1 in c:\\users\\kiran\\appdata\\local\\packages\\pythonsoftwarefoundation.python.3.11_qbz5n2kfra8p0\\localcache\\local-packages\\python311\\site-packages (from pmdarima) (23.2)\n",
      "Requirement already satisfied: python-dateutil>=2.8.1 in c:\\users\\kiran\\appdata\\local\\packages\\pythonsoftwarefoundation.python.3.11_qbz5n2kfra8p0\\localcache\\local-packages\\python311\\site-packages (from pandas>=0.19->pmdarima) (2.8.2)\n",
      "Requirement already satisfied: pytz>=2020.1 in c:\\users\\kiran\\appdata\\local\\packages\\pythonsoftwarefoundation.python.3.11_qbz5n2kfra8p0\\localcache\\local-packages\\python311\\site-packages (from pandas>=0.19->pmdarima) (2022.7.1)\n",
      "Requirement already satisfied: threadpoolctl>=2.0.0 in c:\\users\\kiran\\appdata\\local\\packages\\pythonsoftwarefoundation.python.3.11_qbz5n2kfra8p0\\localcache\\local-packages\\python311\\site-packages (from scikit-learn>=0.22->pmdarima) (3.2.0)\n",
      "Requirement already satisfied: patsy>=0.5.6 in c:\\users\\kiran\\appdata\\local\\packages\\pythonsoftwarefoundation.python.3.11_qbz5n2kfra8p0\\localcache\\local-packages\\python311\\site-packages (from statsmodels>=0.13.2->pmdarima) (0.5.6)\n",
      "Requirement already satisfied: six in c:\\users\\kiran\\appdata\\local\\packages\\pythonsoftwarefoundation.python.3.11_qbz5n2kfra8p0\\localcache\\local-packages\\python311\\site-packages (from patsy>=0.5.6->statsmodels>=0.13.2->pmdarima) (1.16.0)\n",
      "\n"
     ]
    }
   ],
   "source": [
    "pip install pmdarima"
   ]
  },
  {
   "cell_type": "code",
   "execution_count": 72,
   "id": "ad5cfaeb",
   "metadata": {},
   "outputs": [],
   "source": [
    "import numpy as np\n",
    "import pandas as pd\n",
    "import matplotlib.pyplot as plt\n",
    "%matplotlib inline"
   ]
  },
  {
   "cell_type": "code",
   "execution_count": 73,
   "id": "ee077ed8",
   "metadata": {},
   "outputs": [],
   "source": [
    "df = pd.read_csv('NSEI 2015-2023.csv',index_col='Date',parse_dates=True)\n"
   ]
  },
  {
   "cell_type": "code",
   "execution_count": 74,
   "id": "9e86445b",
   "metadata": {},
   "outputs": [
    {
     "data": {
      "text/html": [
       "<div>\n",
       "<style scoped>\n",
       "    .dataframe tbody tr th:only-of-type {\n",
       "        vertical-align: middle;\n",
       "    }\n",
       "\n",
       "    .dataframe tbody tr th {\n",
       "        vertical-align: top;\n",
       "    }\n",
       "\n",
       "    .dataframe thead th {\n",
       "        text-align: right;\n",
       "    }\n",
       "</style>\n",
       "<table border=\"1\" class=\"dataframe\">\n",
       "  <thead>\n",
       "    <tr style=\"text-align: right;\">\n",
       "      <th></th>\n",
       "      <th>Open</th>\n",
       "      <th>High</th>\n",
       "      <th>Low</th>\n",
       "      <th>Close</th>\n",
       "      <th>Volume</th>\n",
       "    </tr>\n",
       "    <tr>\n",
       "      <th>Date</th>\n",
       "      <th></th>\n",
       "      <th></th>\n",
       "      <th></th>\n",
       "      <th></th>\n",
       "      <th></th>\n",
       "    </tr>\n",
       "  </thead>\n",
       "  <tbody>\n",
       "    <tr>\n",
       "      <th>2015-01-02</th>\n",
       "      <td>8288.700195</td>\n",
       "      <td>8410.599609</td>\n",
       "      <td>8288.700195</td>\n",
       "      <td>8395.450195</td>\n",
       "      <td>101900</td>\n",
       "    </tr>\n",
       "    <tr>\n",
       "      <th>2015-01-05</th>\n",
       "      <td>8407.950195</td>\n",
       "      <td>8445.599609</td>\n",
       "      <td>8363.900391</td>\n",
       "      <td>8378.400391</td>\n",
       "      <td>118200</td>\n",
       "    </tr>\n",
       "    <tr>\n",
       "      <th>2015-01-06</th>\n",
       "      <td>8325.299805</td>\n",
       "      <td>8327.849609</td>\n",
       "      <td>8111.350098</td>\n",
       "      <td>8127.350098</td>\n",
       "      <td>172800</td>\n",
       "    </tr>\n",
       "    <tr>\n",
       "      <th>2015-01-07</th>\n",
       "      <td>8118.649902</td>\n",
       "      <td>8151.200195</td>\n",
       "      <td>8065.450195</td>\n",
       "      <td>8102.100098</td>\n",
       "      <td>164100</td>\n",
       "    </tr>\n",
       "    <tr>\n",
       "      <th>2015-01-08</th>\n",
       "      <td>8191.399902</td>\n",
       "      <td>8243.500000</td>\n",
       "      <td>8167.299805</td>\n",
       "      <td>8234.599609</td>\n",
       "      <td>143800</td>\n",
       "    </tr>\n",
       "  </tbody>\n",
       "</table>\n",
       "</div>"
      ],
      "text/plain": [
       "                   Open         High          Low        Close  Volume\n",
       "Date                                                                  \n",
       "2015-01-02  8288.700195  8410.599609  8288.700195  8395.450195  101900\n",
       "2015-01-05  8407.950195  8445.599609  8363.900391  8378.400391  118200\n",
       "2015-01-06  8325.299805  8327.849609  8111.350098  8127.350098  172800\n",
       "2015-01-07  8118.649902  8151.200195  8065.450195  8102.100098  164100\n",
       "2015-01-08  8191.399902  8243.500000  8167.299805  8234.599609  143800"
      ]
     },
     "execution_count": 74,
     "metadata": {},
     "output_type": "execute_result"
    }
   ],
   "source": [
    "df.head()"
   ]
  },
  {
   "cell_type": "code",
   "execution_count": 75,
   "id": "91e905a4",
   "metadata": {},
   "outputs": [
    {
     "data": {
      "text/plain": [
       "(2213, 5)"
      ]
     },
     "execution_count": 75,
     "metadata": {},
     "output_type": "execute_result"
    }
   ],
   "source": [
    "df.shape"
   ]
  },
  {
   "cell_type": "code",
   "execution_count": 76,
   "id": "2a8d8593",
   "metadata": {},
   "outputs": [
    {
     "data": {
      "text/html": [
       "<div>\n",
       "<style scoped>\n",
       "    .dataframe tbody tr th:only-of-type {\n",
       "        vertical-align: middle;\n",
       "    }\n",
       "\n",
       "    .dataframe tbody tr th {\n",
       "        vertical-align: top;\n",
       "    }\n",
       "\n",
       "    .dataframe thead th {\n",
       "        text-align: right;\n",
       "    }\n",
       "</style>\n",
       "<table border=\"1\" class=\"dataframe\">\n",
       "  <thead>\n",
       "    <tr style=\"text-align: right;\">\n",
       "      <th></th>\n",
       "      <th>Open</th>\n",
       "      <th>High</th>\n",
       "      <th>Low</th>\n",
       "      <th>Close</th>\n",
       "      <th>Volume</th>\n",
       "    </tr>\n",
       "  </thead>\n",
       "  <tbody>\n",
       "    <tr>\n",
       "      <th>count</th>\n",
       "      <td>2213.000000</td>\n",
       "      <td>2213.000000</td>\n",
       "      <td>2213.000000</td>\n",
       "      <td>2213.000000</td>\n",
       "      <td>2.213000e+03</td>\n",
       "    </tr>\n",
       "    <tr>\n",
       "      <th>mean</th>\n",
       "      <td>12405.978426</td>\n",
       "      <td>12463.024263</td>\n",
       "      <td>12326.337898</td>\n",
       "      <td>12396.524227</td>\n",
       "      <td>3.232975e+05</td>\n",
       "    </tr>\n",
       "    <tr>\n",
       "      <th>std</th>\n",
       "      <td>3861.464460</td>\n",
       "      <td>3873.947399</td>\n",
       "      <td>3844.778100</td>\n",
       "      <td>3861.815745</td>\n",
       "      <td>2.020718e+05</td>\n",
       "    </tr>\n",
       "    <tr>\n",
       "      <th>min</th>\n",
       "      <td>7023.649902</td>\n",
       "      <td>7034.200195</td>\n",
       "      <td>6825.799805</td>\n",
       "      <td>6970.600098</td>\n",
       "      <td>0.000000e+00</td>\n",
       "    </tr>\n",
       "    <tr>\n",
       "      <th>25%</th>\n",
       "      <td>9026.750000</td>\n",
       "      <td>9099.049805</td>\n",
       "      <td>8912.400391</td>\n",
       "      <td>8981.450195</td>\n",
       "      <td>1.892000e+05</td>\n",
       "    </tr>\n",
       "    <tr>\n",
       "      <th>50%</th>\n",
       "      <td>11079.799805</td>\n",
       "      <td>11141.750000</td>\n",
       "      <td>11010.950195</td>\n",
       "      <td>11075.900391</td>\n",
       "      <td>2.561000e+05</td>\n",
       "    </tr>\n",
       "    <tr>\n",
       "      <th>75%</th>\n",
       "      <td>16270.049805</td>\n",
       "      <td>16338.750000</td>\n",
       "      <td>16172.599609</td>\n",
       "      <td>16258.250000</td>\n",
       "      <td>3.968000e+05</td>\n",
       "    </tr>\n",
       "    <tr>\n",
       "      <th>max</th>\n",
       "      <td>21737.650391</td>\n",
       "      <td>21801.449219</td>\n",
       "      <td>21678.000000</td>\n",
       "      <td>21778.699219</td>\n",
       "      <td>1.811000e+06</td>\n",
       "    </tr>\n",
       "  </tbody>\n",
       "</table>\n",
       "</div>"
      ],
      "text/plain": [
       "               Open          High           Low         Close        Volume\n",
       "count   2213.000000   2213.000000   2213.000000   2213.000000  2.213000e+03\n",
       "mean   12405.978426  12463.024263  12326.337898  12396.524227  3.232975e+05\n",
       "std     3861.464460   3873.947399   3844.778100   3861.815745  2.020718e+05\n",
       "min     7023.649902   7034.200195   6825.799805   6970.600098  0.000000e+00\n",
       "25%     9026.750000   9099.049805   8912.400391   8981.450195  1.892000e+05\n",
       "50%    11079.799805  11141.750000  11010.950195  11075.900391  2.561000e+05\n",
       "75%    16270.049805  16338.750000  16172.599609  16258.250000  3.968000e+05\n",
       "max    21737.650391  21801.449219  21678.000000  21778.699219  1.811000e+06"
      ]
     },
     "execution_count": 76,
     "metadata": {},
     "output_type": "execute_result"
    }
   ],
   "source": [
    "df.describe()"
   ]
  },
  {
   "cell_type": "markdown",
   "id": "f17a2c8b",
   "metadata": {},
   "source": [
    "# Data Visualization"
   ]
  },
  {
   "cell_type": "code",
   "execution_count": 77,
   "id": "e0943c3f",
   "metadata": {},
   "outputs": [
    {
     "data": {
      "text/plain": [
       "<Axes: xlabel='Date'>"
      ]
     },
     "execution_count": 77,
     "metadata": {},
     "output_type": "execute_result"
    },
    {
     "data": {
      "image/png": "[encoded data removed]",
      "text/plain": [
       "<Figure size 1200x500 with 1 Axes>"
      ]
     },
     "metadata": {},
     "output_type": "display_data"
    }
   ],
   "source": [
    "df['Close'].plot(figsize=(12,5))"
   ]
  },
  {
   "cell_type": "markdown",
   "id": "a22c4395",
   "metadata": {},
   "source": [
    "Data is Non-Stationary."
   ]
  },
  {
   "cell_type": "code",
   "execution_count": 78,
   "id": "c7e5795e",
   "metadata": {},
   "outputs": [],
   "source": [
    "df['Close_new']=df['Close'] - df['Close'].shift(1)"
   ]
  },
  {
   "cell_type": "code",
   "execution_count": 79,
   "id": "80338569",
   "metadata": {},
   "outputs": [
    {
     "data": {
      "text/html": [
       "<div>\n",
       "<style scoped>\n",
       "    .dataframe tbody tr th:only-of-type {\n",
       "        vertical-align: middle;\n",
       "    }\n",
       "\n",
       "    .dataframe tbody tr th {\n",
       "        vertical-align: top;\n",
       "    }\n",
       "\n",
       "    .dataframe thead th {\n",
       "        text-align: right;\n",
       "    }\n",
       "</style>\n",
       "<table border=\"1\" class=\"dataframe\">\n",
       "  <thead>\n",
       "    <tr style=\"text-align: right;\">\n",
       "      <th></th>\n",
       "      <th>Open</th>\n",
       "      <th>High</th>\n",
       "      <th>Low</th>\n",
       "      <th>Close</th>\n",
       "      <th>Volume</th>\n",
       "      <th>Close_new</th>\n",
       "    </tr>\n",
       "    <tr>\n",
       "      <th>Date</th>\n",
       "      <th></th>\n",
       "      <th></th>\n",
       "      <th></th>\n",
       "      <th></th>\n",
       "      <th></th>\n",
       "      <th></th>\n",
       "    </tr>\n",
       "  </thead>\n",
       "  <tbody>\n",
       "    <tr>\n",
       "      <th>2015-01-05</th>\n",
       "      <td>8407.950195</td>\n",
       "      <td>8445.599609</td>\n",
       "      <td>8363.900391</td>\n",
       "      <td>8378.400391</td>\n",
       "      <td>118200</td>\n",
       "      <td>-17.049804</td>\n",
       "    </tr>\n",
       "    <tr>\n",
       "      <th>2015-01-06</th>\n",
       "      <td>8325.299805</td>\n",
       "      <td>8327.849609</td>\n",
       "      <td>8111.350098</td>\n",
       "      <td>8127.350098</td>\n",
       "      <td>172800</td>\n",
       "      <td>-251.050293</td>\n",
       "    </tr>\n",
       "    <tr>\n",
       "      <th>2015-01-07</th>\n",
       "      <td>8118.649902</td>\n",
       "      <td>8151.200195</td>\n",
       "      <td>8065.450195</td>\n",
       "      <td>8102.100098</td>\n",
       "      <td>164100</td>\n",
       "      <td>-25.250000</td>\n",
       "    </tr>\n",
       "    <tr>\n",
       "      <th>2015-01-08</th>\n",
       "      <td>8191.399902</td>\n",
       "      <td>8243.500000</td>\n",
       "      <td>8167.299805</td>\n",
       "      <td>8234.599609</td>\n",
       "      <td>143800</td>\n",
       "      <td>132.499511</td>\n",
       "    </tr>\n",
       "    <tr>\n",
       "      <th>2015-01-09</th>\n",
       "      <td>8285.450195</td>\n",
       "      <td>8303.299805</td>\n",
       "      <td>8190.799805</td>\n",
       "      <td>8284.500000</td>\n",
       "      <td>148000</td>\n",
       "      <td>49.900391</td>\n",
       "    </tr>\n",
       "    <tr>\n",
       "      <th>...</th>\n",
       "      <td>...</td>\n",
       "      <td>...</td>\n",
       "      <td>...</td>\n",
       "      <td>...</td>\n",
       "      <td>...</td>\n",
       "      <td>...</td>\n",
       "    </tr>\n",
       "    <tr>\n",
       "      <th>2023-12-22</th>\n",
       "      <td>21295.849609</td>\n",
       "      <td>21390.500000</td>\n",
       "      <td>21232.449219</td>\n",
       "      <td>21349.400391</td>\n",
       "      <td>284700</td>\n",
       "      <td>94.349610</td>\n",
       "    </tr>\n",
       "    <tr>\n",
       "      <th>2023-12-26</th>\n",
       "      <td>21365.199219</td>\n",
       "      <td>21477.150391</td>\n",
       "      <td>21329.449219</td>\n",
       "      <td>21441.349609</td>\n",
       "      <td>219500</td>\n",
       "      <td>91.949218</td>\n",
       "    </tr>\n",
       "    <tr>\n",
       "      <th>2023-12-27</th>\n",
       "      <td>21497.650391</td>\n",
       "      <td>21675.750000</td>\n",
       "      <td>21495.800781</td>\n",
       "      <td>21654.750000</td>\n",
       "      <td>256500</td>\n",
       "      <td>213.400391</td>\n",
       "    </tr>\n",
       "    <tr>\n",
       "      <th>2023-12-28</th>\n",
       "      <td>21715.000000</td>\n",
       "      <td>21801.449219</td>\n",
       "      <td>21678.000000</td>\n",
       "      <td>21778.699219</td>\n",
       "      <td>393100</td>\n",
       "      <td>123.949219</td>\n",
       "    </tr>\n",
       "    <tr>\n",
       "      <th>2023-12-29</th>\n",
       "      <td>21737.650391</td>\n",
       "      <td>21770.300781</td>\n",
       "      <td>21676.900391</td>\n",
       "      <td>21731.400391</td>\n",
       "      <td>270900</td>\n",
       "      <td>-47.298828</td>\n",
       "    </tr>\n",
       "  </tbody>\n",
       "</table>\n",
       "<p>2212 rows × 6 columns</p>\n",
       "</div>"
      ],
      "text/plain": [
       "                    Open          High           Low         Close  Volume  \\\n",
       "Date                                                                         \n",
       "2015-01-05   8407.950195   8445.599609   8363.900391   8378.400391  118200   \n",
       "2015-01-06   8325.299805   8327.849609   8111.350098   8127.350098  172800   \n",
       "2015-01-07   8118.649902   8151.200195   8065.450195   8102.100098  164100   \n",
       "2015-01-08   8191.399902   8243.500000   8167.299805   8234.599609  143800   \n",
       "2015-01-09   8285.450195   8303.299805   8190.799805   8284.500000  148000   \n",
       "...                  ...           ...           ...           ...     ...   \n",
       "2023-12-22  21295.849609  21390.500000  21232.449219  21349.400391  284700   \n",
       "2023-12-26  21365.199219  21477.150391  21329.449219  21441.349609  219500   \n",
       "2023-12-27  21497.650391  21675.750000  21495.800781  21654.750000  256500   \n",
       "2023-12-28  21715.000000  21801.449219  21678.000000  21778.699219  393100   \n",
       "2023-12-29  21737.650391  21770.300781  21676.900391  21731.400391  270900   \n",
       "\n",
       "             Close_new  \n",
       "Date                    \n",
       "2015-01-05  -17.049804  \n",
       "2015-01-06 -251.050293  \n",
       "2015-01-07  -25.250000  \n",
       "2015-01-08  132.499511  \n",
       "2015-01-09   49.900391  \n",
       "...                ...  \n",
       "2023-12-22   94.349610  \n",
       "2023-12-26   91.949218  \n",
       "2023-12-27  213.400391  \n",
       "2023-12-28  123.949219  \n",
       "2023-12-29  -47.298828  \n",
       "\n",
       "[2212 rows x 6 columns]"
      ]
     },
     "execution_count": 79,
     "metadata": {},
     "output_type": "execute_result"
    }
   ],
   "source": [
    "df.dropna(axis=0,inplace=True)\n",
    "df"
   ]
  },
  {
   "cell_type": "code",
   "execution_count": 80,
   "id": "7c555ae9",
   "metadata": {},
   "outputs": [
    {
     "data": {
      "text/plain": [
       "<Axes: xlabel='Date'>"
      ]
     },
     "execution_count": 80,
     "metadata": {},
     "output_type": "execute_result"
    },
    {
     "data": {
      "image/png": "[encoded data removed]",
      "text/plain": [
       "<Figure size 640x480 with 1 Axes>"
      ]
     },
     "metadata": {},
     "output_type": "display_data"
    }
   ],
   "source": [
    "df['Close_new'].plot()"
   ]
  },
  {
   "cell_type": "code",
   "execution_count": 81,
   "id": "364d84ee",
   "metadata": {},
   "outputs": [],
   "source": [
    "from statsmodels.tsa.stattools import adfuller\n",
    "\n",
    "def ad_test(dataset):\n",
    "    dftest = adfuller(dataset,autolag = 'AIC')\n",
    "    print(\"1.ADF:\",dftest[0])\n",
    "    print(\"2.P-value:\",dftest[1])\n",
    "    print(\"3.Num of Lags\",dftest[2])\n",
    "    print(\"4.Num of Observations Used for ADF Regression and Critical Values Calculation\",dftest[3])\n",
    "    print(\"5.Critical Values:\")\n",
    "    for key, val in dftest[4].items():\n",
    "        print(\"\\t\",key,\":\",val)"
   ]
  },
  {
   "cell_type": "code",
   "execution_count": 82,
   "id": "5f54f416",
   "metadata": {},
   "outputs": [
    {
     "name": "stdout",
     "output_type": "stream",
     "text": [
      "1.ADF: -16.902674751549586\n",
      "2.P-value: 1.0248496067546175e-29\n",
      "3.Num of Lags 6\n",
      "4.Num of Observations Used for ADF Regression and Critical Values Calculation 2205\n",
      "5.Critical Values:\n",
      "\t 1% : -3.4333191288144413\n",
      "\t 5% : -2.8628516682161713\n",
      "\t 10% : -2.567468264817643\n"
     ]
    }
   ],
   "source": [
    "ad_test(df['Close_new'])"
   ]
  },
  {
   "cell_type": "code",
   "execution_count": 83,
   "id": "b478fbf5",
   "metadata": {},
   "outputs": [],
   "source": [
    "from pmdarima import auto_arima\n",
    "import warnings\n",
    "warnings.filterwarnings(\"ignore\")"
   ]
  },
  {
   "cell_type": "code",
   "execution_count": 84,
   "id": "a176bbe8",
   "metadata": {},
   "outputs": [
    {
     "name": "stdout",
     "output_type": "stream",
     "text": [
      "Performing stepwise search to minimize aic\n",
      " ARIMA(2,0,2)(0,0,0)[0] intercept   : AIC=inf, Time=1.20 sec\n",
      " ARIMA(0,0,0)(0,0,0)[0] intercept   : AIC=27657.329, Time=0.03 sec\n",
      " ARIMA(1,0,0)(0,0,0)[0] intercept   : AIC=27658.116, Time=0.03 sec\n",
      " ARIMA(0,0,1)(0,0,0)[0] intercept   : AIC=27658.124, Time=0.05 sec\n",
      " ARIMA(0,0,0)(0,0,0)[0]             : AIC=27660.433, Time=0.02 sec\n",
      " ARIMA(1,0,1)(0,0,0)[0] intercept   : AIC=27660.120, Time=0.10 sec\n",
      "\n",
      "Best model:  ARIMA(0,0,0)(0,0,0)[0] intercept\n",
      "Total fit time: 1.480 seconds\n"
     ]
    },
    {
     "data": {
      "text/html": [
       "<table class=\"simpletable\">\n",
       "<caption>SARIMAX Results</caption>\n",
       "<tr>\n",
       "  <th>Dep. Variable:</th>           <td>y</td>        <th>  No. Observations:  </th>    <td>2212</td>   \n",
       "</tr>\n",
       "<tr>\n",
       "  <th>Model:</th>                <td>SARIMAX</td>     <th>  Log Likelihood     </th> <td>-13826.665</td>\n",
       "</tr>\n",
       "<tr>\n",
       "  <th>Date:</th>            <td>Sat, 11 May 2024</td> <th>  AIC                </th>  <td>27657.329</td>\n",
       "</tr>\n",
       "<tr>\n",
       "  <th>Time:</th>                <td>15:56:19</td>     <th>  BIC                </th>  <td>27668.733</td>\n",
       "</tr>\n",
       "<tr>\n",
       "  <th>Sample:</th>                  <td>0</td>        <th>  HQIC               </th>  <td>27661.495</td>\n",
       "</tr>\n",
       "<tr>\n",
       "  <th></th>                      <td> - 2212</td>     <th>                     </th>      <td> </td>    \n",
       "</tr>\n",
       "<tr>\n",
       "  <th>Covariance Type:</th>        <td>opg</td>       <th>                     </th>      <td> </td>    \n",
       "</tr>\n",
       "</table>\n",
       "<table class=\"simpletable\">\n",
       "<tr>\n",
       "      <td></td>         <th>coef</th>     <th>std err</th>      <th>z</th>      <th>P>|z|</th>  <th>[0.025</th>    <th>0.975]</th>  \n",
       "</tr>\n",
       "<tr>\n",
       "  <th>intercept</th> <td>    6.0289</td> <td>    2.760</td> <td>    2.185</td> <td> 0.029</td> <td>    0.620</td> <td>   11.437</td>\n",
       "</tr>\n",
       "<tr>\n",
       "  <th>sigma2</th>    <td> 1.573e+04</td> <td>  219.642</td> <td>   71.638</td> <td> 0.000</td> <td> 1.53e+04</td> <td> 1.62e+04</td>\n",
       "</tr>\n",
       "</table>\n",
       "<table class=\"simpletable\">\n",
       "<tr>\n",
       "  <th>Ljung-Box (L1) (Q):</th>     <td>1.21</td> <th>  Jarque-Bera (JB):  </th> <td>6044.20</td>\n",
       "</tr>\n",
       "<tr>\n",
       "  <th>Prob(Q):</th>                <td>0.27</td> <th>  Prob(JB):          </th>  <td>0.00</td>  \n",
       "</tr>\n",
       "<tr>\n",
       "  <th>Heteroskedasticity (H):</th> <td>4.52</td> <th>  Skew:              </th>  <td>-0.81</td> \n",
       "</tr>\n",
       "<tr>\n",
       "  <th>Prob(H) (two-sided):</th>    <td>0.00</td> <th>  Kurtosis:          </th>  <td>10.93</td> \n",
       "</tr>\n",
       "</table><br/><br/>Warnings:<br/>[1] Covariance matrix calculated using the outer product of gradients (complex-step)."
      ],
      "text/latex": [
       "\\begin{center}\n",
       "\\begin{tabular}{lclc}\n",
       "\\toprule\n",
       "\\textbf{Dep. Variable:}          &        y         & \\textbf{  No. Observations:  } &    2212     \\\\\n",
       "\\textbf{Model:}                  &     SARIMAX      & \\textbf{  Log Likelihood     } & -13826.665  \\\\\n",
       "\\textbf{Date:}                   & Sat, 11 May 2024 & \\textbf{  AIC                } & 27657.329   \\\\\n",
       "\\textbf{Time:}                   &     15:56:19     & \\textbf{  BIC                } & 27668.733   \\\\\n",
       "\\textbf{Sample:}                 &        0         & \\textbf{  HQIC               } & 27661.495   \\\\\n",
       "\\textbf{}                        &      - 2212      & \\textbf{                     } &             \\\\\n",
       "\\textbf{Covariance Type:}        &       opg        & \\textbf{                     } &             \\\\\n",
       "\\bottomrule\n",
       "\\end{tabular}\n",
       "\\begin{tabular}{lcccccc}\n",
       "                   & \\textbf{coef} & \\textbf{std err} & \\textbf{z} & \\textbf{P$> |$z$|$} & \\textbf{[0.025} & \\textbf{0.975]}  \\\\\n",
       "\\midrule\n",
       "\\textbf{intercept} &       6.0289  &        2.760     &     2.185  &         0.029        &        0.620    &       11.437     \\\\\n",
       "\\textbf{sigma2}    &    1.573e+04  &      219.642     &    71.638  &         0.000        &     1.53e+04    &     1.62e+04     \\\\\n",
       "\\bottomrule\n",
       "\\end{tabular}\n",
       "\\begin{tabular}{lclc}\n",
       "\\textbf{Ljung-Box (L1) (Q):}     & 1.21 & \\textbf{  Jarque-Bera (JB):  } & 6044.20  \\\\\n",
       "\\textbf{Prob(Q):}                & 0.27 & \\textbf{  Prob(JB):          } &   0.00   \\\\\n",
       "\\textbf{Heteroskedasticity (H):} & 4.52 & \\textbf{  Skew:              } &  -0.81   \\\\\n",
       "\\textbf{Prob(H) (two-sided):}    & 0.00 & \\textbf{  Kurtosis:          } &  10.93   \\\\\n",
       "\\bottomrule\n",
       "\\end{tabular}\n",
       "%\\caption{SARIMAX Results}\n",
       "\\end{center}\n",
       "\n",
       "Warnings: \\newline\n",
       " [1] Covariance matrix calculated using the outer product of gradients (complex-step)."
      ],
      "text/plain": [
       "<class 'statsmodels.iolib.summary.Summary'>\n",
       "\"\"\"\n",
       "                               SARIMAX Results                                \n",
       "==============================================================================\n",
       "Dep. Variable:                      y   No. Observations:                 2212\n",
       "Model:                        SARIMAX   Log Likelihood              -13826.665\n",
       "Date:                Sat, 11 May 2024   AIC                          27657.329\n",
       "Time:                        15:56:19   BIC                          27668.733\n",
       "Sample:                             0   HQIC                         27661.495\n",
       "                               - 2212                                         \n",
       "Covariance Type:                  opg                                         \n",
       "==============================================================================\n",
       "                 coef    std err          z      P>|z|      [0.025      0.975]\n",
       "------------------------------------------------------------------------------\n",
       "intercept      6.0289      2.760      2.185      0.029       0.620      11.437\n",
       "sigma2      1.573e+04    219.642     71.638      0.000    1.53e+04    1.62e+04\n",
       "===================================================================================\n",
       "Ljung-Box (L1) (Q):                   1.21   Jarque-Bera (JB):              6044.20\n",
       "Prob(Q):                              0.27   Prob(JB):                         0.00\n",
       "Heteroskedasticity (H):               4.52   Skew:                            -0.81\n",
       "Prob(H) (two-sided):                  0.00   Kurtosis:                        10.93\n",
       "===================================================================================\n",
       "\n",
       "Warnings:\n",
       "[1] Covariance matrix calculated using the outer product of gradients (complex-step).\n",
       "\"\"\""
      ]
     },
     "execution_count": 84,
     "metadata": {},
     "output_type": "execute_result"
    }
   ],
   "source": [
    "stepwise_fit = auto_arima(df['Close_new'], trace=True,suppress_warnings= True)\n",
    "stepwise_fit.summary()"
   ]
  },
  {
   "cell_type": "code",
   "execution_count": 85,
   "id": "3a4b78f4",
   "metadata": {},
   "outputs": [],
   "source": [
    "from statsmodels.tsa.arima.model import ARIMA"
   ]
  },
  {
   "cell_type": "code",
   "execution_count": 86,
   "id": "11e4f3f1",
   "metadata": {},
   "outputs": [
    {
     "name": "stdout",
     "output_type": "stream",
     "text": [
      "(2212, 6)\n",
      "(1812, 6) (400, 6)\n"
     ]
    }
   ],
   "source": [
    "#Split data into training and testing\n",
    "print(df.shape)\n",
    "train=df.iloc[:-400]\n",
    "test=df.iloc[-400:]\n",
    "print(train.shape,test.shape)"
   ]
  },
  {
   "cell_type": "code",
   "execution_count": 87,
   "id": "8bf7eadd",
   "metadata": {
    "scrolled": true
   },
   "outputs": [
    {
     "data": {
      "text/html": [
       "<table class=\"simpletable\">\n",
       "<caption>SARIMAX Results</caption>\n",
       "<tr>\n",
       "  <th>Dep. Variable:</th>       <td>Close_new</td>    <th>  No. Observations:  </th>    <td>1812</td>   \n",
       "</tr>\n",
       "<tr>\n",
       "  <th>Model:</th>                 <td>ARIMA</td>      <th>  Log Likelihood     </th> <td>-11304.558</td>\n",
       "</tr>\n",
       "<tr>\n",
       "  <th>Date:</th>            <td>Sat, 11 May 2024</td> <th>  AIC                </th>  <td>22613.117</td>\n",
       "</tr>\n",
       "<tr>\n",
       "  <th>Time:</th>                <td>15:56:19</td>     <th>  BIC                </th>  <td>22624.121</td>\n",
       "</tr>\n",
       "<tr>\n",
       "  <th>Sample:</th>                  <td>0</td>        <th>  HQIC               </th>  <td>22617.177</td>\n",
       "</tr>\n",
       "<tr>\n",
       "  <th></th>                      <td> - 1812</td>     <th>                     </th>      <td> </td>    \n",
       "</tr>\n",
       "<tr>\n",
       "  <th>Covariance Type:</th>        <td>opg</td>       <th>                     </th>      <td> </td>    \n",
       "</tr>\n",
       "</table>\n",
       "<table class=\"simpletable\">\n",
       "<tr>\n",
       "     <td></td>       <th>coef</th>     <th>std err</th>      <th>z</th>      <th>P>|z|</th>  <th>[0.025</th>    <th>0.975]</th>  \n",
       "</tr>\n",
       "<tr>\n",
       "  <th>const</th>  <td>    4.0915</td> <td>    3.047</td> <td>    1.343</td> <td> 0.179</td> <td>   -1.880</td> <td>   10.063</td>\n",
       "</tr>\n",
       "<tr>\n",
       "  <th>sigma2</th> <td> 1.537e+04</td> <td>  219.103</td> <td>   70.168</td> <td> 0.000</td> <td> 1.49e+04</td> <td> 1.58e+04</td>\n",
       "</tr>\n",
       "</table>\n",
       "<table class=\"simpletable\">\n",
       "<tr>\n",
       "  <th>Ljung-Box (L1) (Q):</th>     <td>0.09</td> <th>  Jarque-Bera (JB):  </th> <td>7709.21</td>\n",
       "</tr>\n",
       "<tr>\n",
       "  <th>Prob(Q):</th>                <td>0.76</td> <th>  Prob(JB):          </th>  <td>0.00</td>  \n",
       "</tr>\n",
       "<tr>\n",
       "  <th>Heteroskedasticity (H):</th> <td>5.79</td> <th>  Skew:              </th>  <td>-1.01</td> \n",
       "</tr>\n",
       "<tr>\n",
       "  <th>Prob(H) (two-sided):</th>    <td>0.00</td> <th>  Kurtosis:          </th>  <td>12.90</td> \n",
       "</tr>\n",
       "</table><br/><br/>Warnings:<br/>[1] Covariance matrix calculated using the outer product of gradients (complex-step)."
      ],
      "text/latex": [
       "\\begin{center}\n",
       "\\begin{tabular}{lclc}\n",
       "\\toprule\n",
       "\\textbf{Dep. Variable:}          &    Close\\_new    & \\textbf{  No. Observations:  } &    1812     \\\\\n",
       "\\textbf{Model:}                  &      ARIMA       & \\textbf{  Log Likelihood     } & -11304.558  \\\\\n",
       "\\textbf{Date:}                   & Sat, 11 May 2024 & \\textbf{  AIC                } & 22613.117   \\\\\n",
       "\\textbf{Time:}                   &     15:56:19     & \\textbf{  BIC                } & 22624.121   \\\\\n",
       "\\textbf{Sample:}                 &        0         & \\textbf{  HQIC               } & 22617.177   \\\\\n",
       "\\textbf{}                        &      - 1812      & \\textbf{                     } &             \\\\\n",
       "\\textbf{Covariance Type:}        &       opg        & \\textbf{                     } &             \\\\\n",
       "\\bottomrule\n",
       "\\end{tabular}\n",
       "\\begin{tabular}{lcccccc}\n",
       "                & \\textbf{coef} & \\textbf{std err} & \\textbf{z} & \\textbf{P$> |$z$|$} & \\textbf{[0.025} & \\textbf{0.975]}  \\\\\n",
       "\\midrule\n",
       "\\textbf{const}  &       4.0915  &        3.047     &     1.343  &         0.179        &       -1.880    &       10.063     \\\\\n",
       "\\textbf{sigma2} &    1.537e+04  &      219.103     &    70.168  &         0.000        &     1.49e+04    &     1.58e+04     \\\\\n",
       "\\bottomrule\n",
       "\\end{tabular}\n",
       "\\begin{tabular}{lclc}\n",
       "\\textbf{Ljung-Box (L1) (Q):}     & 0.09 & \\textbf{  Jarque-Bera (JB):  } & 7709.21  \\\\\n",
       "\\textbf{Prob(Q):}                & 0.76 & \\textbf{  Prob(JB):          } &   0.00   \\\\\n",
       "\\textbf{Heteroskedasticity (H):} & 5.79 & \\textbf{  Skew:              } &  -1.01   \\\\\n",
       "\\textbf{Prob(H) (two-sided):}    & 0.00 & \\textbf{  Kurtosis:          } &  12.90   \\\\\n",
       "\\bottomrule\n",
       "\\end{tabular}\n",
       "%\\caption{SARIMAX Results}\n",
       "\\end{center}\n",
       "\n",
       "Warnings: \\newline\n",
       " [1] Covariance matrix calculated using the outer product of gradients (complex-step)."
      ],
      "text/plain": [
       "<class 'statsmodels.iolib.summary.Summary'>\n",
       "\"\"\"\n",
       "                               SARIMAX Results                                \n",
       "==============================================================================\n",
       "Dep. Variable:              Close_new   No. Observations:                 1812\n",
       "Model:                          ARIMA   Log Likelihood              -11304.558\n",
       "Date:                Sat, 11 May 2024   AIC                          22613.117\n",
       "Time:                        15:56:19   BIC                          22624.121\n",
       "Sample:                             0   HQIC                         22617.177\n",
       "                               - 1812                                         \n",
       "Covariance Type:                  opg                                         \n",
       "==============================================================================\n",
       "                 coef    std err          z      P>|z|      [0.025      0.975]\n",
       "------------------------------------------------------------------------------\n",
       "const          4.0915      3.047      1.343      0.179      -1.880      10.063\n",
       "sigma2      1.537e+04    219.103     70.168      0.000    1.49e+04    1.58e+04\n",
       "===================================================================================\n",
       "Ljung-Box (L1) (Q):                   0.09   Jarque-Bera (JB):              7709.21\n",
       "Prob(Q):                              0.76   Prob(JB):                         0.00\n",
       "Heteroskedasticity (H):               5.79   Skew:                            -1.01\n",
       "Prob(H) (two-sided):                  0.00   Kurtosis:                        12.90\n",
       "===================================================================================\n",
       "\n",
       "Warnings:\n",
       "[1] Covariance matrix calculated using the outer product of gradients (complex-step).\n",
       "\"\"\""
      ]
     },
     "execution_count": 87,
     "metadata": {},
     "output_type": "execute_result"
    }
   ],
   "source": [
    "#training the model\n",
    "model =ARIMA(train['Close_new'],order=(0,0,0))\n",
    "model=model.fit()\n",
    "model.summary()"
   ]
  },
  {
   "cell_type": "code",
   "execution_count": 88,
   "id": "9950396e",
   "metadata": {},
   "outputs": [
    {
     "name": "stdout",
     "output_type": "stream",
     "text": [
      "1812    4.09149\n",
      "1813    4.09149\n",
      "1814    4.09149\n",
      "1815    4.09149\n",
      "1816    4.09149\n",
      "         ...   \n",
      "2207    4.09149\n",
      "2208    4.09149\n",
      "2209    4.09149\n",
      "2210    4.09149\n",
      "2211    4.09149\n",
      "Name: predicted_mean, Length: 400, dtype: float64\n",
      "Date\n",
      "2022-05-20    4.09149\n",
      "2022-05-23    4.09149\n",
      "2022-05-24    4.09149\n",
      "2022-05-25    4.09149\n",
      "2022-05-26    4.09149\n",
      "               ...   \n",
      "2023-12-22    4.09149\n",
      "2023-12-26    4.09149\n",
      "2023-12-27    4.09149\n",
      "2023-12-28    4.09149\n",
      "2023-12-29    4.09149\n",
      "Name: predicted_mean, Length: 400, dtype: float64\n"
     ]
    }
   ],
   "source": [
    "start = len(train)\n",
    "end = len(train)+ len(test)-1\n",
    "pred=model.predict(start=start,end=end,type='levels')\n",
    "print(pred)\n",
    "pred.index=df.index[start:end+1]\n",
    "print(pred)"
   ]
  },
  {
   "cell_type": "code",
   "execution_count": 89,
   "id": "1318a5e4",
   "metadata": {},
   "outputs": [
    {
     "data": {
      "text/plain": [
       "<Axes: xlabel='Date'>"
      ]
     },
     "execution_count": 89,
     "metadata": {},
     "output_type": "execute_result"
    },
    {
     "data": {
      "image/png": "[encoded data removed]",
      "text/plain": [
       "<Figure size 640x480 with 1 Axes>"
      ]
     },
     "metadata": {},
     "output_type": "display_data"
    }
   ],
   "source": [
    "pred.plot(legend=True)\n",
    "test['Close_new'].plot(legend=True)"
   ]
  },
  {
   "cell_type": "code",
   "execution_count": 90,
   "id": "15332da0",
   "metadata": {},
   "outputs": [
    {
     "data": {
      "text/plain": [
       "14.805"
      ]
     },
     "execution_count": 90,
     "metadata": {},
     "output_type": "execute_result"
    }
   ],
   "source": [
    "test['Close_new'].mean()"
   ]
  },
  {
   "cell_type": "code",
   "execution_count": 91,
   "id": "021e2edf",
   "metadata": {},
   "outputs": [
    {
     "name": "stdout",
     "output_type": "stream",
     "text": [
      "132.1006775986103\n"
     ]
    }
   ],
   "source": [
    "from sklearn.metrics import mean_squared_error\n",
    "from math import sqrt\n",
    "rmsqr = sqrt(mean_squared_error(pred,test['Close_new']))\n",
    "print(rmsqr)"
   ]
  },
  {
   "cell_type": "code",
   "execution_count": 92,
   "id": "f8d3ab21",
   "metadata": {},
   "outputs": [
    {
     "data": {
      "text/html": [
       "<div>\n",
       "<style scoped>\n",
       "    .dataframe tbody tr th:only-of-type {\n",
       "        vertical-align: middle;\n",
       "    }\n",
       "\n",
       "    .dataframe tbody tr th {\n",
       "        vertical-align: top;\n",
       "    }\n",
       "\n",
       "    .dataframe thead th {\n",
       "        text-align: right;\n",
       "    }\n",
       "</style>\n",
       "<table border=\"1\" class=\"dataframe\">\n",
       "  <thead>\n",
       "    <tr style=\"text-align: right;\">\n",
       "      <th></th>\n",
       "      <th>Open</th>\n",
       "      <th>High</th>\n",
       "      <th>Low</th>\n",
       "      <th>Close</th>\n",
       "      <th>Volume</th>\n",
       "      <th>Close_new</th>\n",
       "    </tr>\n",
       "    <tr>\n",
       "      <th>Date</th>\n",
       "      <th></th>\n",
       "      <th></th>\n",
       "      <th></th>\n",
       "      <th></th>\n",
       "      <th></th>\n",
       "      <th></th>\n",
       "    </tr>\n",
       "  </thead>\n",
       "  <tbody>\n",
       "    <tr>\n",
       "      <th>2023-12-22</th>\n",
       "      <td>21295.849609</td>\n",
       "      <td>21390.500000</td>\n",
       "      <td>21232.449219</td>\n",
       "      <td>21349.400391</td>\n",
       "      <td>284700</td>\n",
       "      <td>94.349610</td>\n",
       "    </tr>\n",
       "    <tr>\n",
       "      <th>2023-12-26</th>\n",
       "      <td>21365.199219</td>\n",
       "      <td>21477.150391</td>\n",
       "      <td>21329.449219</td>\n",
       "      <td>21441.349609</td>\n",
       "      <td>219500</td>\n",
       "      <td>91.949218</td>\n",
       "    </tr>\n",
       "    <tr>\n",
       "      <th>2023-12-27</th>\n",
       "      <td>21497.650391</td>\n",
       "      <td>21675.750000</td>\n",
       "      <td>21495.800781</td>\n",
       "      <td>21654.750000</td>\n",
       "      <td>256500</td>\n",
       "      <td>213.400391</td>\n",
       "    </tr>\n",
       "    <tr>\n",
       "      <th>2023-12-28</th>\n",
       "      <td>21715.000000</td>\n",
       "      <td>21801.449219</td>\n",
       "      <td>21678.000000</td>\n",
       "      <td>21778.699219</td>\n",
       "      <td>393100</td>\n",
       "      <td>123.949219</td>\n",
       "    </tr>\n",
       "    <tr>\n",
       "      <th>2023-12-29</th>\n",
       "      <td>21737.650391</td>\n",
       "      <td>21770.300781</td>\n",
       "      <td>21676.900391</td>\n",
       "      <td>21731.400391</td>\n",
       "      <td>270900</td>\n",
       "      <td>-47.298828</td>\n",
       "    </tr>\n",
       "  </tbody>\n",
       "</table>\n",
       "</div>"
      ],
      "text/plain": [
       "                    Open          High           Low         Close  Volume  \\\n",
       "Date                                                                         \n",
       "2023-12-22  21295.849609  21390.500000  21232.449219  21349.400391  284700   \n",
       "2023-12-26  21365.199219  21477.150391  21329.449219  21441.349609  219500   \n",
       "2023-12-27  21497.650391  21675.750000  21495.800781  21654.750000  256500   \n",
       "2023-12-28  21715.000000  21801.449219  21678.000000  21778.699219  393100   \n",
       "2023-12-29  21737.650391  21770.300781  21676.900391  21731.400391  270900   \n",
       "\n",
       "             Close_new  \n",
       "Date                    \n",
       "2023-12-22   94.349610  \n",
       "2023-12-26   91.949218  \n",
       "2023-12-27  213.400391  \n",
       "2023-12-28  123.949219  \n",
       "2023-12-29  -47.298828  "
      ]
     },
     "execution_count": 92,
     "metadata": {},
     "output_type": "execute_result"
    }
   ],
   "source": [
    "model2 =ARIMA(df['Close_new'],order=(0,0,0))\n",
    "model2=model2.fit()\n",
    "df.tail()\n"
   ]
  },
  {
   "cell_type": "code",
   "execution_count": 93,
   "id": "c9a9ee7b",
   "metadata": {},
   "outputs": [
    {
     "ename": "ValueError",
     "evalue": "Length mismatch: Expected axis has 11 elements, new values have 3281 elements",
     "output_type": "error",
     "traceback": [
      "\u001b[1;31m---------------------------------------------------------------------------\u001b[0m",
      "\u001b[1;31mValueError\u001b[0m                                Traceback (most recent call last)",
      "Cell \u001b[1;32mIn[93], line 4\u001b[0m\n\u001b[0;32m      2\u001b[0m \u001b[38;5;66;03m#print(index_future_dates)\u001b[39;00m\n\u001b[0;32m      3\u001b[0m pred\u001b[38;5;241m=\u001b[39mmodel2\u001b[38;5;241m.\u001b[39mpredict(start\u001b[38;5;241m=\u001b[39m\u001b[38;5;28mlen\u001b[39m(df),end\u001b[38;5;241m=\u001b[39m\u001b[38;5;28mlen\u001b[39m(df)\u001b[38;5;241m+\u001b[39m\u001b[38;5;241m10\u001b[39m,typ\u001b[38;5;241m=\u001b[39m\u001b[38;5;124m'\u001b[39m\u001b[38;5;124mlevels\u001b[39m\u001b[38;5;124m'\u001b[39m)\u001b[38;5;241m.\u001b[39mrename(\u001b[38;5;124m'\u001b[39m\u001b[38;5;124mARIMA Predictions\u001b[39m\u001b[38;5;124m'\u001b[39m)\n\u001b[1;32m----> 4\u001b[0m \u001b[43mpred\u001b[49m\u001b[38;5;241;43m.\u001b[39;49m\u001b[43mindex\u001b[49m\u001b[38;5;241m=\u001b[39mindex_future_dates\n\u001b[0;32m      5\u001b[0m \u001b[38;5;28mprint\u001b[39m(comp_pred)\n",
      "File \u001b[1;32m~\\AppData\\Local\\Packages\\PythonSoftwareFoundation.Python.3.11_qbz5n2kfra8p0\\LocalCache\\local-packages\\Python311\\site-packages\\pandas\\core\\generic.py:5915\u001b[0m, in \u001b[0;36mNDFrame.__setattr__\u001b[1;34m(self, name, value)\u001b[0m\n\u001b[0;32m   5913\u001b[0m \u001b[38;5;28;01mtry\u001b[39;00m:\n\u001b[0;32m   5914\u001b[0m     \u001b[38;5;28mobject\u001b[39m\u001b[38;5;241m.\u001b[39m\u001b[38;5;21m__getattribute__\u001b[39m(\u001b[38;5;28mself\u001b[39m, name)\n\u001b[1;32m-> 5915\u001b[0m     \u001b[38;5;28;01mreturn\u001b[39;00m \u001b[38;5;28;43mobject\u001b[39;49m\u001b[38;5;241;43m.\u001b[39;49m\u001b[38;5;21;43m__setattr__\u001b[39;49m\u001b[43m(\u001b[49m\u001b[38;5;28;43mself\u001b[39;49m\u001b[43m,\u001b[49m\u001b[43m \u001b[49m\u001b[43mname\u001b[49m\u001b[43m,\u001b[49m\u001b[43m \u001b[49m\u001b[43mvalue\u001b[49m\u001b[43m)\u001b[49m\n\u001b[0;32m   5916\u001b[0m \u001b[38;5;28;01mexcept\u001b[39;00m \u001b[38;5;167;01mAttributeError\u001b[39;00m:\n\u001b[0;32m   5917\u001b[0m     \u001b[38;5;28;01mpass\u001b[39;00m\n",
      "File \u001b[1;32m~\\AppData\\Local\\Packages\\PythonSoftwareFoundation.Python.3.11_qbz5n2kfra8p0\\LocalCache\\local-packages\\Python311\\site-packages\\pandas\\_libs\\properties.pyx:69\u001b[0m, in \u001b[0;36mpandas._libs.properties.AxisProperty.__set__\u001b[1;34m()\u001b[0m\n",
      "File \u001b[1;32m~\\AppData\\Local\\Packages\\PythonSoftwareFoundation.Python.3.11_qbz5n2kfra8p0\\LocalCache\\local-packages\\Python311\\site-packages\\pandas\\core\\series.py:593\u001b[0m, in \u001b[0;36mSeries._set_axis\u001b[1;34m(self, axis, labels)\u001b[0m\n\u001b[0;32m    590\u001b[0m             \u001b[38;5;28;01mpass\u001b[39;00m\n\u001b[0;32m    592\u001b[0m \u001b[38;5;66;03m# The ensure_index call above ensures we have an Index object\u001b[39;00m\n\u001b[1;32m--> 593\u001b[0m \u001b[38;5;28;43mself\u001b[39;49m\u001b[38;5;241;43m.\u001b[39;49m\u001b[43m_mgr\u001b[49m\u001b[38;5;241;43m.\u001b[39;49m\u001b[43mset_axis\u001b[49m\u001b[43m(\u001b[49m\u001b[43maxis\u001b[49m\u001b[43m,\u001b[49m\u001b[43m \u001b[49m\u001b[43mlabels\u001b[49m\u001b[43m)\u001b[49m\n",
      "File \u001b[1;32m~\\AppData\\Local\\Packages\\PythonSoftwareFoundation.Python.3.11_qbz5n2kfra8p0\\LocalCache\\local-packages\\Python311\\site-packages\\pandas\\core\\internals\\managers.py:230\u001b[0m, in \u001b[0;36mBaseBlockManager.set_axis\u001b[1;34m(self, axis, new_labels)\u001b[0m\n\u001b[0;32m    228\u001b[0m \u001b[38;5;28;01mdef\u001b[39;00m \u001b[38;5;21mset_axis\u001b[39m(\u001b[38;5;28mself\u001b[39m, axis: \u001b[38;5;28mint\u001b[39m, new_labels: Index) \u001b[38;5;241m-\u001b[39m\u001b[38;5;241m>\u001b[39m \u001b[38;5;28;01mNone\u001b[39;00m:\n\u001b[0;32m    229\u001b[0m     \u001b[38;5;66;03m# Caller is responsible for ensuring we have an Index object.\u001b[39;00m\n\u001b[1;32m--> 230\u001b[0m     \u001b[38;5;28;43mself\u001b[39;49m\u001b[38;5;241;43m.\u001b[39;49m\u001b[43m_validate_set_axis\u001b[49m\u001b[43m(\u001b[49m\u001b[43maxis\u001b[49m\u001b[43m,\u001b[49m\u001b[43m \u001b[49m\u001b[43mnew_labels\u001b[49m\u001b[43m)\u001b[49m\n\u001b[0;32m    231\u001b[0m     \u001b[38;5;28mself\u001b[39m\u001b[38;5;241m.\u001b[39maxes[axis] \u001b[38;5;241m=\u001b[39m new_labels\n",
      "File \u001b[1;32m~\\AppData\\Local\\Packages\\PythonSoftwareFoundation.Python.3.11_qbz5n2kfra8p0\\LocalCache\\local-packages\\Python311\\site-packages\\pandas\\core\\internals\\base.py:70\u001b[0m, in \u001b[0;36mDataManager._validate_set_axis\u001b[1;34m(self, axis, new_labels)\u001b[0m\n\u001b[0;32m     67\u001b[0m     \u001b[38;5;28;01mpass\u001b[39;00m\n\u001b[0;32m     69\u001b[0m \u001b[38;5;28;01melif\u001b[39;00m new_len \u001b[38;5;241m!=\u001b[39m old_len:\n\u001b[1;32m---> 70\u001b[0m     \u001b[38;5;28;01mraise\u001b[39;00m \u001b[38;5;167;01mValueError\u001b[39;00m(\n\u001b[0;32m     71\u001b[0m         \u001b[38;5;124mf\u001b[39m\u001b[38;5;124m\"\u001b[39m\u001b[38;5;124mLength mismatch: Expected axis has \u001b[39m\u001b[38;5;132;01m{\u001b[39;00mold_len\u001b[38;5;132;01m}\u001b[39;00m\u001b[38;5;124m elements, new \u001b[39m\u001b[38;5;124m\"\u001b[39m\n\u001b[0;32m     72\u001b[0m         \u001b[38;5;124mf\u001b[39m\u001b[38;5;124m\"\u001b[39m\u001b[38;5;124mvalues have \u001b[39m\u001b[38;5;132;01m{\u001b[39;00mnew_len\u001b[38;5;132;01m}\u001b[39;00m\u001b[38;5;124m elements\u001b[39m\u001b[38;5;124m\"\u001b[39m\n\u001b[0;32m     73\u001b[0m     )\n",
      "\u001b[1;31mValueError\u001b[0m: Length mismatch: Expected axis has 11 elements, new values have 3281 elements"
     ]
    }
   ],
   "source": [
    "index_future_dates = pd.date_range(start='2015-01-05',end='2023-12-29')\n",
    "#print(index_future_dates)\n",
    "pred=model2.predict(start=len(df),end=len(df)+10,typ='levels').rename('ARIMA Predictions')\n",
    "pred.index=index_future_dates\n",
    "print(comp_pred)"
   ]
  },
  {
   "cell_type": "code",
   "execution_count": null,
   "id": "c2dae673",
   "metadata": {},
   "outputs": [],
   "source": []
  }
 ],
 "metadata": {
  "kernelspec": {
   "display_name": "Python 3 (ipykernel)",
   "language": "python",
   "name": "python3"
  },
  "language_info": {
   "codemirror_mode": {
    "name": "ipython",
    "version": 3
   },
   "file_extension": ".py",
   "mimetype": "text/x-python",
   "name": "python",
   "nbconvert_exporter": "python",
   "pygments_lexer": "ipython3",
   "version": "3.11.9"
  }
 },
 "nbformat": 4,
 "nbformat_minor": 5
}
